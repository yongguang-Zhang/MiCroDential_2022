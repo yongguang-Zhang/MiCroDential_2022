{
  "nbformat": 4,
  "nbformat_minor": 0,
  "metadata": {
    "colab": {
      "name": "Day 2 Collection Data Types.ipynb",
      "provenance": [],
      "authorship_tag": "ABX9TyP7/GCdK98RxyREDD6hGRmK",
      "include_colab_link": true
    },
    "kernelspec": {
      "name": "python3",
      "display_name": "Python 3"
    },
    "language_info": {
      "name": "python"
    }
  },
  "cells": [
    {
      "cell_type": "markdown",
      "metadata": {
        "id": "view-in-github",
        "colab_type": "text"
      },
      "source": [
        "<a href=\"https://colab.research.google.com/github/yongguang-Zhang/MiCroDential_2022/blob/master/Day_2_Collection_Data_Types.ipynb\" target=\"_parent\"><img src=\"https://colab.research.google.com/assets/colab-badge.svg\" alt=\"Open In Colab\"/></a>"
      ]
    },
    {
      "cell_type": "markdown",
      "source": [
        "# Collection Data Types\n",
        "###List,Dictionaries,Sets & Tuples\n",
        "##Lists"
      ],
      "metadata": {
        "id": "_LDG6gYulyZ3"
      }
    },
    {
      "cell_type": "code",
      "source": [
        "s = 'Hello World'"
      ],
      "metadata": {
        "id": "EXSCWafAmVsG"
      },
      "execution_count": null,
      "outputs": []
    },
    {
      "cell_type": "code",
      "source": [
        "s"
      ],
      "metadata": {
        "colab": {
          "base_uri": "https://localhost:8080/",
          "height": 35
        },
        "id": "M-uozKsjmX7P",
        "outputId": "a4c5da96-1d5d-4d4e-c3c8-84c96843cd00"
      },
      "execution_count": null,
      "outputs": [
        {
          "output_type": "execute_result",
          "data": {
            "application/vnd.google.colaboratory.intrinsic+json": {
              "type": "string"
            },
            "text/plain": [
              "'Hello World'"
            ]
          },
          "metadata": {},
          "execution_count": 2
        }
      ]
    },
    {
      "cell_type": "code",
      "source": [
        "len(s)"
      ],
      "metadata": {
        "colab": {
          "base_uri": "https://localhost:8080/"
        },
        "id": "-fMHoR8pmYR8",
        "outputId": "23f35bd9-de43-4a35-c6c9-a27ee8c3822e"
      },
      "execution_count": null,
      "outputs": [
        {
          "output_type": "execute_result",
          "data": {
            "text/plain": [
              "11"
            ]
          },
          "metadata": {},
          "execution_count": 3
        }
      ]
    },
    {
      "cell_type": "code",
      "source": [
        "s.upper()"
      ],
      "metadata": {
        "colab": {
          "base_uri": "https://localhost:8080/",
          "height": 35
        },
        "id": "Mhpay-eRmnMf",
        "outputId": "a1f28dab-e947-433d-ba30-603a945350ab"
      },
      "execution_count": null,
      "outputs": [
        {
          "output_type": "execute_result",
          "data": {
            "application/vnd.google.colaboratory.intrinsic+json": {
              "type": "string"
            },
            "text/plain": [
              "'HELLO WORLD'"
            ]
          },
          "metadata": {},
          "execution_count": 4
        }
      ]
    },
    {
      "cell_type": "code",
      "source": [
        "s"
      ],
      "metadata": {
        "colab": {
          "base_uri": "https://localhost:8080/",
          "height": 35
        },
        "id": "KwfOvH0NmoS9",
        "outputId": "4d63fa64-93b6-4d8a-fa05-57d22f68ed14"
      },
      "execution_count": null,
      "outputs": [
        {
          "output_type": "execute_result",
          "data": {
            "application/vnd.google.colaboratory.intrinsic+json": {
              "type": "string"
            },
            "text/plain": [
              "'Hello World'"
            ]
          },
          "metadata": {},
          "execution_count": 5
        }
      ]
    },
    {
      "cell_type": "code",
      "source": [
        "s.lower()"
      ],
      "metadata": {
        "colab": {
          "base_uri": "https://localhost:8080/",
          "height": 35
        },
        "id": "6vAVXq3PmpZY",
        "outputId": "b2f3f91a-7b3c-4506-d18e-ade699d28642"
      },
      "execution_count": null,
      "outputs": [
        {
          "output_type": "execute_result",
          "data": {
            "application/vnd.google.colaboratory.intrinsic+json": {
              "type": "string"
            },
            "text/plain": [
              "'hello world'"
            ]
          },
          "metadata": {},
          "execution_count": 6
        }
      ]
    },
    {
      "cell_type": "code",
      "source": [
        "movies = ['Star Wars','Star Trek','Lord of the Rings','Avengers','The Hobbit','Fast and Furious']"
      ],
      "metadata": {
        "id": "tlPSZZhpmqtG"
      },
      "execution_count": null,
      "outputs": []
    },
    {
      "cell_type": "code",
      "source": [
        "len(movies)"
      ],
      "metadata": {
        "colab": {
          "base_uri": "https://localhost:8080/"
        },
        "id": "Y1Fgz4bIm3XE",
        "outputId": "a7915a6b-9d46-4792-c928-0a3228d9f629"
      },
      "execution_count": null,
      "outputs": [
        {
          "output_type": "execute_result",
          "data": {
            "text/plain": [
              "6"
            ]
          },
          "metadata": {},
          "execution_count": 8
        }
      ]
    },
    {
      "cell_type": "code",
      "source": [
        "movies = ['Star Wars','Star Trek','Lord of the Rings','Avengers','The Hobbit','Fast and Furious']\n",
        "message = 'My favorite movie is ' + movies[4].upper() + '!!!'\n",
        "'''\n",
        "Line 1 : I am creating a list variable called movies which holds a list of movies.\n",
        "Line 2 : I am extracting a movie from list which is movies by indexing, then I am applying built-in function '.upper()' to extract movie from the list.\n",
        "The '.upper()' just simply capitalises every letter. -e.g. world -->World. Lastly, I am concatinating a string to my extracted movie from the list and \n",
        "concatinating another string at the end.\n",
        "\n",
        "'''\n",
        "print(message)\n",
        "# In this line I am printing the content of my variable 'message' to the screen"
      ],
      "metadata": {
        "colab": {
          "base_uri": "https://localhost:8080/"
        },
        "id": "rVZ-dMTbm490",
        "outputId": "16efe929-86f4-4c6f-a697-aef8e4352a18"
      },
      "execution_count": null,
      "outputs": [
        {
          "output_type": "stream",
          "name": "stdout",
          "text": [
            "My favorite movie is THE HOBBIT!!!\n"
          ]
        }
      ]
    },
    {
      "cell_type": "code",
      "source": [
        "movies"
      ],
      "metadata": {
        "colab": {
          "base_uri": "https://localhost:8080/"
        },
        "id": "93MvbKl6pnL8",
        "outputId": "b1df517e-e916-4e88-d6a1-6e5af767c7e5"
      },
      "execution_count": null,
      "outputs": [
        {
          "output_type": "execute_result",
          "data": {
            "text/plain": [
              "['Star Wars',\n",
              " 'Star Trek',\n",
              " 'Lord of the Rings',\n",
              " 'Avengers',\n",
              " 'The Hobbit',\n",
              " 'Fast and Furious']"
            ]
          },
          "metadata": {},
          "execution_count": 10
        }
      ]
    },
    {
      "cell_type": "code",
      "source": [
        "movies[1] = 'The Matrix'"
      ],
      "metadata": {
        "id": "XAwwVtdtppUN"
      },
      "execution_count": null,
      "outputs": []
    },
    {
      "cell_type": "code",
      "source": [
        "movies"
      ],
      "metadata": {
        "colab": {
          "base_uri": "https://localhost:8080/"
        },
        "id": "cTvlTeVypt4Q",
        "outputId": "4a18821e-74df-4270-e6d8-db2ecee9a494"
      },
      "execution_count": null,
      "outputs": [
        {
          "output_type": "execute_result",
          "data": {
            "text/plain": [
              "['Star Wars',\n",
              " 'The Matrix',\n",
              " 'Lord of the Rings',\n",
              " 'Avengers',\n",
              " 'The Hobbit',\n",
              " 'Fast and Furious']"
            ]
          },
          "metadata": {},
          "execution_count": 12
        }
      ]
    },
    {
      "cell_type": "code",
      "source": [
        "del movies[2]"
      ],
      "metadata": {
        "id": "0A4rgUxJpub4"
      },
      "execution_count": null,
      "outputs": []
    },
    {
      "cell_type": "code",
      "source": [
        "movies.remove('Avengers')"
      ],
      "metadata": {
        "id": "6OOuSI-C9Gsa"
      },
      "execution_count": null,
      "outputs": []
    },
    {
      "cell_type": "code",
      "source": [
        "movies"
      ],
      "metadata": {
        "colab": {
          "base_uri": "https://localhost:8080/"
        },
        "id": "Ir5q105U9MIB",
        "outputId": "fe49c6ec-dee8-4c6f-8a00-3e6e72f6bd0e"
      },
      "execution_count": null,
      "outputs": [
        {
          "output_type": "execute_result",
          "data": {
            "text/plain": [
              "['Star Wars', 'The Matrix', 'The Hobbit', 'Fast and Furious']"
            ]
          },
          "metadata": {},
          "execution_count": 15
        }
      ]
    },
    {
      "cell_type": "code",
      "source": [
        ""
      ],
      "metadata": {
        "id": "pMU5zoSx9Myw"
      },
      "execution_count": null,
      "outputs": []
    },
    {
      "cell_type": "markdown",
      "source": [
        "# 新段落"
      ],
      "metadata": {
        "id": "Wnk6Gp6K9ckc"
      }
    }
  ]
}