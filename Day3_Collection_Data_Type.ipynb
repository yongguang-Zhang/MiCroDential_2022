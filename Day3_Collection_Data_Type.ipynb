{
  "nbformat": 4,
  "nbformat_minor": 0,
  "metadata": {
    "colab": {
      "name": "Day3 Collection Data Type.ipynb",
      "provenance": [],
      "authorship_tag": "ABX9TyNT+p/gZxXZmWNeFC+7BHOw",
      "include_colab_link": true
    },
    "kernelspec": {
      "name": "python3",
      "display_name": "Python 3"
    },
    "language_info": {
      "name": "python"
    }
  },
  "cells": [
    {
      "cell_type": "markdown",
      "metadata": {
        "id": "view-in-github",
        "colab_type": "text"
      },
      "source": [
        "<a href=\"https://colab.research.google.com/github/yongguang-Zhang/MiCroDential_2022/blob/master/Day3_Collection_Data_Type.ipynb\" target=\"_parent\"><img src=\"https://colab.research.google.com/assets/colab-badge.svg\" alt=\"Open In Colab\"/></a>"
      ]
    },
    {
      "cell_type": "markdown",
      "source": [
        "# Dictionary"
      ],
      "metadata": {
        "id": "8GSpmGBPwDLG"
      }
    },
    {
      "cell_type": "code",
      "source": [
        "patient_1 = {'First Name':'John','Last Name':'Kimble'}\n",
        "patient_1"
      ],
      "metadata": {
        "colab": {
          "base_uri": "https://localhost:8080/"
        },
        "id": "HoJ88HH-wNfX",
        "outputId": "3df8fe2f-4896-435b-83a1-27f54bf26279"
      },
      "execution_count": 1,
      "outputs": [
        {
          "output_type": "execute_result",
          "data": {
            "text/plain": [
              "{'First Name': 'John', 'Last Name': 'Kimble'}"
            ]
          },
          "metadata": {},
          "execution_count": 1
        }
      ]
    },
    {
      "cell_type": "code",
      "source": [
        "patient_1['First Name']"
      ],
      "metadata": {
        "colab": {
          "base_uri": "https://localhost:8080/",
          "height": 35
        },
        "id": "7SIXgVplwkHJ",
        "outputId": "910b2d67-9410-4c5e-ab30-cfc7379d5b71"
      },
      "execution_count": 2,
      "outputs": [
        {
          "output_type": "execute_result",
          "data": {
            "application/vnd.google.colaboratory.intrinsic+json": {
              "type": "string"
            },
            "text/plain": [
              "'John'"
            ]
          },
          "metadata": {},
          "execution_count": 2
        }
      ]
    },
    {
      "cell_type": "code",
      "source": [
        "patient_2 = {'Fruit':'Orange'}\n",
        "patient_2['First Name'] = 'John'\n",
        "patient_2['Last Name'] = 'Wick'"
      ],
      "metadata": {
        "id": "As9fF3uUwnPr"
      },
      "execution_count": 4,
      "outputs": []
    },
    {
      "cell_type": "code",
      "source": [
        "patient_2['Car'] = 'BMW'\n",
        "patient_2['Color'] = 'Blue'\n",
        "patient_2"
      ],
      "metadata": {
        "colab": {
          "base_uri": "https://localhost:8080/"
        },
        "id": "kXEjIjH1w0dd",
        "outputId": "31a7c902-9ad8-4c9c-c61e-a0bcf8cde62e"
      },
      "execution_count": 5,
      "outputs": [
        {
          "output_type": "execute_result",
          "data": {
            "text/plain": [
              "{'Car': 'BMW',\n",
              " 'Color': 'Blue',\n",
              " 'First Name': 'John',\n",
              " 'Fruit': 'Orange',\n",
              " 'Last Name': 'Wick'}"
            ]
          },
          "metadata": {},
          "execution_count": 5
        }
      ]
    },
    {
      "cell_type": "code",
      "source": [
        "del patient_2['Color']"
      ],
      "metadata": {
        "id": "EsFi9287xQaE"
      },
      "execution_count": 6,
      "outputs": []
    },
    {
      "cell_type": "code",
      "source": [
        "patient_2"
      ],
      "metadata": {
        "colab": {
          "base_uri": "https://localhost:8080/"
        },
        "id": "0SuP8sBmxUYu",
        "outputId": "ae230642-9628-4402-de4f-49e768c6de67"
      },
      "execution_count": 7,
      "outputs": [
        {
          "output_type": "execute_result",
          "data": {
            "text/plain": [
              "{'Car': 'BMW', 'First Name': 'John', 'Fruit': 'Orange', 'Last Name': 'Wick'}"
            ]
          },
          "metadata": {},
          "execution_count": 7
        }
      ]
    },
    {
      "cell_type": "code",
      "source": [
        "patient_2['object'] = ['fruit',12,'Strings']"
      ],
      "metadata": {
        "id": "_0iNtuYSxVKW"
      },
      "execution_count": 8,
      "outputs": []
    },
    {
      "cell_type": "code",
      "source": [
        "patient_2"
      ],
      "metadata": {
        "colab": {
          "base_uri": "https://localhost:8080/"
        },
        "id": "ydTD2zZExgO_",
        "outputId": "7f440d00-daad-48e7-e0af-32c1f2d7996f"
      },
      "execution_count": 9,
      "outputs": [
        {
          "output_type": "execute_result",
          "data": {
            "text/plain": [
              "{'Car': 'BMW',\n",
              " 'First Name': 'John',\n",
              " 'Fruit': 'Orange',\n",
              " 'Last Name': 'Wick',\n",
              " 'object': ['fruit', 12, 'Strings']}"
            ]
          },
          "metadata": {},
          "execution_count": 9
        }
      ]
    },
    {
      "cell_type": "markdown",
      "source": [
        "# Nesting with Dictionaries"
      ],
      "metadata": {
        "id": "5Y2rF3xBxg_F"
      }
    },
    {
      "cell_type": "code",
      "source": [
        "# Dictionary nested inside a dictionary nested inside a dictionary\n",
        "d = {'key1':{'Fruit':{'Color':'Orange'}}}"
      ],
      "metadata": {
        "id": "7f_QYjBh2pKI"
      },
      "execution_count": 10,
      "outputs": []
    },
    {
      "cell_type": "code",
      "source": [
        "# Keep calling the keys\n",
        "d['key1']['Fruit']['Color']"
      ],
      "metadata": {
        "colab": {
          "base_uri": "https://localhost:8080/",
          "height": 35
        },
        "id": "CJ6pCnB_2y1e",
        "outputId": "60114c0f-fc3e-424e-adf3-f6b651f75287"
      },
      "execution_count": 12,
      "outputs": [
        {
          "output_type": "execute_result",
          "data": {
            "application/vnd.google.colaboratory.intrinsic+json": {
              "type": "string"
            },
            "text/plain": [
              "'Orange'"
            ]
          },
          "metadata": {},
          "execution_count": 12
        }
      ]
    },
    {
      "cell_type": "markdown",
      "source": [
        "#Dictionary Methods"
      ],
      "metadata": {
        "id": "wI5jcn7R237L"
      }
    },
    {
      "cell_type": "code",
      "source": [
        "# Create a typical dictionary\n",
        "d = {\"key1\":1,'key2':2,'key3':3}"
      ],
      "metadata": {
        "id": "4AmDTMWV3WsM"
      },
      "execution_count": 13,
      "outputs": []
    },
    {
      "cell_type": "code",
      "source": [
        "# method to grad all values\n",
        "d.values()"
      ],
      "metadata": {
        "colab": {
          "base_uri": "https://localhost:8080/"
        },
        "id": "HvOl4ywH3eOb",
        "outputId": "731026cc-835e-47e9-a6d9-9c1b492d5969"
      },
      "execution_count": 14,
      "outputs": [
        {
          "output_type": "execute_result",
          "data": {
            "text/plain": [
              "dict_values([1, 2, 3])"
            ]
          },
          "metadata": {},
          "execution_count": 14
        }
      ]
    },
    {
      "cell_type": "code",
      "source": [
        "# method to return tuples of all items \n",
        "d.items()"
      ],
      "metadata": {
        "colab": {
          "base_uri": "https://localhost:8080/"
        },
        "id": "NShnDeE93iZF",
        "outputId": "81e530ae-8ea7-4f0f-ead7-5a27887b791c"
      },
      "execution_count": 15,
      "outputs": [
        {
          "output_type": "execute_result",
          "data": {
            "text/plain": [
              "dict_items([('key1', 1), ('key2', 2), ('key3', 3)])"
            ]
          },
          "metadata": {},
          "execution_count": 15
        }
      ]
    },
    {
      "cell_type": "code",
      "source": [
        ""
      ],
      "metadata": {
        "id": "LDt2btqf3oVA"
      },
      "execution_count": null,
      "outputs": []
    }
  ]
}