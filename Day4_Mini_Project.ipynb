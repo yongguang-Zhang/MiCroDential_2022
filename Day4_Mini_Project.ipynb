{
  "nbformat": 4,
  "nbformat_minor": 0,
  "metadata": {
    "colab": {
      "name": "Day4 Mini Project.ipynb",
      "provenance": [],
      "authorship_tag": "ABX9TyP93BSdqQ+NvyDoeAxNBS6g",
      "include_colab_link": true
    },
    "kernelspec": {
      "name": "python3",
      "display_name": "Python 3"
    },
    "language_info": {
      "name": "python"
    }
  },
  "cells": [
    {
      "cell_type": "markdown",
      "metadata": {
        "id": "view-in-github",
        "colab_type": "text"
      },
      "source": [
        "<a href=\"https://colab.research.google.com/github/yongguang-Zhang/MiCroDential_2022/blob/master/Day4_Mini_Project.ipynb\" target=\"_parent\"><img src=\"https://colab.research.google.com/assets/colab-badge.svg\" alt=\"Open In Colab\"/></a>"
      ]
    },
    {
      "cell_type": "markdown",
      "source": [
        "# Project 1\n",
        "## Ask the user for a number. Depending on whether the number is even or odd, print out an appropriate message to the user.  Hint: how does an even / odd number react differently when divided by 2?"
      ],
      "metadata": {
        "id": "mn8IqYmmteQu"
      }
    },
    {
      "cell_type": "code",
      "source": [
        "# Create a varieable called Num to hold the value user typed in \n",
        "Num = input('Please Enter a number: ')\n",
        "# The type of content of input() is always string,we need to convert it to int so we can know whether it is odd or even number\n",
        "if int(Num) % 2 == 0:\n",
        "  print(Num + ' is an even number.')\n",
        "else:\n",
        "  print(Num + ' is an odd number.')"
      ],
      "metadata": {
        "colab": {
          "base_uri": "https://localhost:8080/"
        },
        "id": "1tSpiNbPtzbF",
        "outputId": "f5e292d0-c65b-4cac-cbe2-7a70629f7485"
      },
      "execution_count": 3,
      "outputs": [
        {
          "output_type": "stream",
          "name": "stdout",
          "text": [
            "Please Enter a number: 77\n",
            "77 is an odd number.\n"
          ]
        }
      ]
    },
    {
      "cell_type": "markdown",
      "source": [
        "# Project 2\n",
        "## Bonus:\n",
        "##If the number is a multiple of 4, print out a different message.\n",
        "##Ask the user for two numbers: one number to check (call it num) and one number to divide by (check).  If check divides evenly into num, tell that to the user.  If not, print a different appropriate message.\n",
        "##Write a custom function for finding whether the number is even or odd and call it in your main program code.\n"
      ],
      "metadata": {
        "id": "DB4UZhn3uLc8"
      }
    },
    {
      "cell_type": "code",
      "source": [
        "# A function can check whether the number is even or not.\n",
        "def checkEven(num):\n",
        "  if int(num) % 2 == 0:\n",
        "    print(Num + ' is an even number.')\n",
        "  else:\n",
        "    print(Num + ' is an odd number.')\n",
        "\n",
        "# Prompt the user to input numbers\n",
        "num = input('Please Enter a Number: ')\n",
        "num1 = input('Please Enter another Number: ')\n",
        "\n",
        "# Check if the number is a multiple of 4\n",
        "if int(num) % 4 == 0:\n",
        "  print(num + ' is a multiple of 4.')\n",
        "\n",
        "# call checkEven function to check if num is an even number\n",
        "checkEven(num)\n",
        "\n",
        "# Check if num1 can be divided by num\n",
        "if int(num1) % int(num) == 0:\n",
        "  print(f\"{num1} can be divided by {num}.\")\n",
        "else:\n",
        "  print(f\"{num1} can not be divided by {num}.\")\n",
        "\n",
        "\n",
        "\n",
        "\n"
      ],
      "metadata": {
        "colab": {
          "base_uri": "https://localhost:8080/"
        },
        "id": "c8oi8rMduxUt",
        "outputId": "cd008301-55e6-40b7-c2ac-752d36d6d04c"
      },
      "execution_count": 7,
      "outputs": [
        {
          "output_type": "stream",
          "name": "stdout",
          "text": [
            "Please Enter a Number: 43908490\n",
            "Please Enter another Number: 324435\n",
            "77 is an even number.\n",
            "324435 can not be divided by 43908490.\n"
          ]
        }
      ]
    },
    {
      "cell_type": "code",
      "source": [
        ""
      ],
      "metadata": {
        "id": "hDtK8JnIx8lx"
      },
      "execution_count": null,
      "outputs": []
    }
  ]
}