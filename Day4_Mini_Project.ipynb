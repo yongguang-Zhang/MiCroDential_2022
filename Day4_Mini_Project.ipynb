{
  "nbformat": 4,
  "nbformat_minor": 0,
  "metadata": {
    "colab": {
      "name": "Day4 Mini Project.ipynb",
      "provenance": [],
      "authorship_tag": "ABX9TyO9zNRgbLMDHphe20ha3yeR",
      "include_colab_link": true
    },
    "kernelspec": {
      "name": "python3",
      "display_name": "Python 3"
    },
    "language_info": {
      "name": "python"
    }
  },
  "cells": [
    {
      "cell_type": "markdown",
      "metadata": {
        "id": "view-in-github",
        "colab_type": "text"
      },
      "source": [
        "<a href=\"https://colab.research.google.com/github/yongguang-Zhang/MiCroDential_2022/blob/master/Day4_Mini_Project.ipynb\" target=\"_parent\"><img src=\"https://colab.research.google.com/assets/colab-badge.svg\" alt=\"Open In Colab\"/></a>"
      ]
    },
    {
      "cell_type": "markdown",
      "source": [
        "# Mini Project\n",
        "## Ask the user for a number. Depending on whether the number is even or odd, print out an appropriate message to the user.  Hint: how does an even / odd number react differently when divided by 2?"
      ],
      "metadata": {
        "id": "mn8IqYmmteQu"
      }
    },
    {
      "cell_type": "code",
      "source": [
        "# Create a varieable called Num to hold the value user typed in \n",
        "Num = int(input('Please Enter a number: '))\n",
        "# The type of content of input() is always string,we need to convert it to int so we can know whether it is odd or even number\n",
        "if Num % 2 == 0:\n",
        "  print(Num,' is an even number.')\n",
        "else:\n",
        "  print(Num,' is an odd number.')"
      ],
      "metadata": {
        "colab": {
          "base_uri": "https://localhost:8080/"
        },
        "id": "1tSpiNbPtzbF",
        "outputId": "13be0bcd-252f-41c7-b7b1-cb374dff251d"
      },
      "execution_count": 2,
      "outputs": [
        {
          "output_type": "stream",
          "name": "stdout",
          "text": [
            "Please Enter a number: 22\n",
            "22  is an even number.\n"
          ]
        }
      ]
    },
    {
      "cell_type": "markdown",
      "source": [
        "#Bonus\n",
        "##If the number is a multiple of 4, print out a different message.\n",
        "##Ask the user for two numbers: one number to check (call it num) and one number to divide by (check).  If check divides evenly into num, tell that to the user.  If not, print a different appropriate message.\n",
        "##Write a custom function for finding whether the number is even or odd and call it in your main program code.\n"
      ],
      "metadata": {
        "id": "DB4UZhn3uLc8"
      }
    },
    {
      "cell_type": "code",
      "source": [
        "# A function can check whether the number is even or not.\n",
        "def checkEven(num):\n",
        "  if num % 2 == 0:\n",
        "    print(num,' is an even number.')\n",
        "  else:\n",
        "    print(num,' is an odd number.')\n",
        "\n",
        "# Prompt the user to input numbers\n",
        "num = int(input('Please Enter a Number: '))\n",
        "num1 = int(input('Please Enter another Number: '))\n",
        "\n",
        "# Check if the number is a multiple of 4\n",
        "if num % 4 == 0:\n",
        "  print(num,' is a multiple of 4.')\n",
        "\n",
        "# call checkEven function to check if num is an even number\n",
        "checkEven(num)\n",
        "\n",
        "# Check if num1 can be divided by num\n",
        "if num1 % num == 0:\n",
        "  print(f\"{num1} can be divided by {num}.\")\n",
        "else:\n",
        "  print(f\"{num1} can not be divided by {num}.\")\n",
        "\n",
        "\n",
        "\n",
        "\n"
      ],
      "metadata": {
        "colab": {
          "base_uri": "https://localhost:8080/"
        },
        "id": "c8oi8rMduxUt",
        "outputId": "742169eb-67ac-4396-9c7e-8648ad5c3219"
      },
      "execution_count": 5,
      "outputs": [
        {
          "output_type": "stream",
          "name": "stdout",
          "text": [
            "Please Enter a Number: 24\n",
            "Please Enter another Number: 58\n",
            "24  is a multiple of 4.\n",
            "24  is an even number.\n",
            "58 can not be divided by 24.\n"
          ]
        }
      ]
    },
    {
      "cell_type": "code",
      "source": [
        ""
      ],
      "metadata": {
        "id": "hDtK8JnIx8lx"
      },
      "execution_count": null,
      "outputs": []
    }
  ]
}