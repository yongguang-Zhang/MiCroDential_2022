{
  "nbformat": 4,
  "nbformat_minor": 0,
  "metadata": {
    "colab": {
      "name": "Day3_Assignment.ipynb",
      "provenance": [],
      "authorship_tag": "ABX9TyOrydj8e1VI8EW7AhEuhPtw",
      "include_colab_link": true
    },
    "kernelspec": {
      "name": "python3",
      "display_name": "Python 3"
    },
    "language_info": {
      "name": "python"
    }
  },
  "cells": [
    {
      "cell_type": "markdown",
      "metadata": {
        "id": "view-in-github",
        "colab_type": "text"
      },
      "source": [
        "<a href=\"https://colab.research.google.com/github/yongguang-Zhang/MiCroDential_2022/blob/master/Day3_Assignment.ipynb\" target=\"_parent\"><img src=\"https://colab.research.google.com/assets/colab-badge.svg\" alt=\"Open In Colab\"/></a>"
      ]
    },
    {
      "cell_type": "markdown",
      "source": [
        "# Lession4 - Looping"
      ],
      "metadata": {
        "id": "kwzZPaCWZ_2Z"
      }
    },
    {
      "cell_type": "code",
      "source": [
        "# 1.Create a list that holds 5 data variables. \n",
        "list1 = ['Orange','Apple','Melon','Peach','Grapes']"
      ],
      "metadata": {
        "id": "l840eV2NaKYV"
      },
      "execution_count": 1,
      "outputs": []
    },
    {
      "cell_type": "code",
      "source": [
        "# 2.Print out those variables by using a for loop.\n",
        "for i in list1:\n",
        "  print(i)"
      ],
      "metadata": {
        "colab": {
          "base_uri": "https://localhost:8080/"
        },
        "id": "pxPuVXd6a0-X",
        "outputId": "dcf5d9fa-3bbe-4940-cece-55a624229b88"
      },
      "execution_count": 2,
      "outputs": [
        {
          "output_type": "stream",
          "name": "stdout",
          "text": [
            "Orange\n",
            "Apple\n",
            "Melon\n",
            "Peach\n",
            "Grapes\n"
          ]
        }
      ]
    },
    {
      "cell_type": "code",
      "source": [
        "# 3.Modify your for loop to add a message to your for loop.\n",
        "for i in list1:\n",
        "  print(i,'is my fav fruit')"
      ],
      "metadata": {
        "colab": {
          "base_uri": "https://localhost:8080/"
        },
        "id": "iEhkx29ha9bU",
        "outputId": "06495501-d032-4fd2-af61-e1e876e55177"
      },
      "execution_count": 4,
      "outputs": [
        {
          "output_type": "stream",
          "name": "stdout",
          "text": [
            "Orange is my fav fruit\n",
            "Apple is my fav fruit\n",
            "Melon is my fav fruit\n",
            "Peach is my fav fruit\n",
            "Grapes is my fav fruit\n"
          ]
        }
      ]
    },
    {
      "cell_type": "code",
      "source": [
        "# 4.Use a for loop to print even numbers from 1-20.\n",
        "for i in range(1,20):\n",
        "  if i % 2 == 0:\n",
        "    print(i)"
      ],
      "metadata": {
        "colab": {
          "base_uri": "https://localhost:8080/"
        },
        "id": "38t5IsZxbUTv",
        "outputId": "cdc5507c-1182-45cc-8fd2-20d5d51c7319"
      },
      "execution_count": 5,
      "outputs": [
        {
          "output_type": "stream",
          "name": "stdout",
          "text": [
            "2\n",
            "4\n",
            "6\n",
            "8\n",
            "10\n",
            "12\n",
            "14\n",
            "16\n",
            "18\n"
          ]
        }
      ]
    },
    {
      "cell_type": "code",
      "source": [
        "# 5.Sort your list in alphabetic order.\n",
        "list1 = sorted(list1)"
      ],
      "metadata": {
        "colab": {
          "base_uri": "https://localhost:8080/"
        },
        "id": "Q4pDkHL-brvn",
        "outputId": "d9de00cb-5bef-45a0-da4b-2a21ea2a4796"
      },
      "execution_count": 6,
      "outputs": [
        {
          "output_type": "execute_result",
          "data": {
            "text/plain": [
              "['Apple', 'Grapes', 'Melon', 'Orange', 'Peach']"
            ]
          },
          "metadata": {},
          "execution_count": 6
        }
      ]
    },
    {
      "cell_type": "code",
      "source": [
        "# 6.Print out the first three elements of your list.\n",
        "for i in range(0,3):\n",
        "  print(list1[i])"
      ],
      "metadata": {
        "colab": {
          "base_uri": "https://localhost:8080/"
        },
        "id": "hdb2xK6nb1l8",
        "outputId": "b1e4733c-74c8-4251-8b0e-682db2efdfd5"
      },
      "execution_count": 7,
      "outputs": [
        {
          "output_type": "stream",
          "name": "stdout",
          "text": [
            "Apple\n",
            "Grapes\n",
            "Melon\n"
          ]
        }
      ]
    },
    {
      "cell_type": "code",
      "source": [
        "# 7.Create a loop to print the last 2 elements of your list.\n",
        "for i in range(1,3):\n",
        "  print(list1[-i])"
      ],
      "metadata": {
        "colab": {
          "base_uri": "https://localhost:8080/"
        },
        "id": "11WGKD5gcR9Y",
        "outputId": "ec1faf00-af43-4c47-bcd6-d64af0c956f2"
      },
      "execution_count": 11,
      "outputs": [
        {
          "output_type": "stream",
          "name": "stdout",
          "text": [
            "Peach\n",
            "Orange\n"
          ]
        }
      ]
    },
    {
      "cell_type": "markdown",
      "source": [
        "# Lession6 - Dictionaries"
      ],
      "metadata": {
        "id": "DvuUU5Xbcm4Y"
      }
    },
    {
      "cell_type": "code",
      "source": [
        "# 1.Create a simple dictionary that stores 2 variables, for example: first and last name.\n",
        "dict1 = {'Car':'BMW','Color':'White'}"
      ],
      "metadata": {
        "id": "mhgwCGtjdIG2"
      },
      "execution_count": 12,
      "outputs": []
    },
    {
      "cell_type": "code",
      "source": [
        "# 2.Print out those variables stored in your previous dictionary.\n",
        "print(dict1) "
      ],
      "metadata": {
        "colab": {
          "base_uri": "https://localhost:8080/"
        },
        "id": "DlOTR9roeF_a",
        "outputId": "33c2501f-34ce-4287-b9fd-1188231f275f"
      },
      "execution_count": 13,
      "outputs": [
        {
          "output_type": "stream",
          "name": "stdout",
          "text": [
            "{'Car': 'BMW', 'Color': 'White'}\n"
          ]
        }
      ]
    },
    {
      "cell_type": "code",
      "source": [
        "# 3.Add a message to those variables on printing: for example: “Hello, firstname lastname!”\n",
        "print(f\"I just bought a {dict1['Color']} {dict1['Car']} SUV\")"
      ],
      "metadata": {
        "colab": {
          "base_uri": "https://localhost:8080/"
        },
        "id": "NV51IDGieOrM",
        "outputId": "8caba9e1-4ae0-4cc0-d1a6-6f9890912432"
      },
      "execution_count": 20,
      "outputs": [
        {
          "output_type": "stream",
          "name": "stdout",
          "text": [
            "I just bought a White BMW SUV\n"
          ]
        }
      ]
    },
    {
      "cell_type": "code",
      "source": [
        "# 4.Create a dictionary that holds 2 key: value pairs:\n",
        "##    a.Look through your dictionary and print each pair,\n",
        "dict2 = {'First Name':'John','Last Name':'James'}\n",
        "for k,v in dict2.items():\n",
        "  print(k,v)\n"
      ],
      "metadata": {
        "colab": {
          "base_uri": "https://localhost:8080/"
        },
        "id": "3qCP-cvtetiZ",
        "outputId": "1c5261ee-2064-47be-986a-a8fdb247fb99"
      },
      "execution_count": 21,
      "outputs": [
        {
          "output_type": "stream",
          "name": "stdout",
          "text": [
            "First Name John\n",
            "Last Name James\n"
          ]
        }
      ]
    },
    {
      "cell_type": "code",
      "source": [
        "# 5.Create a nested dictionary containing three dictionaries – these dictionaries could be anything (favorite pets, travel locations, etc.)\n",
        "##   a.Loop through the dictionaries and print a message for each.\n",
        "dict3 = {'Car':{'SUV':{'Color':'White'}}}\n",
        "for k,v in dict3.items():\n",
        "  print('I got a '+k)\n",
        "  for k1,v1 in v.items():\n",
        "    print('It is a '+ k1)\n",
        "    for k2,v2 in v1.items():\n",
        "      print('It is '+k2)"
      ],
      "metadata": {
        "colab": {
          "base_uri": "https://localhost:8080/"
        },
        "id": "Y5c_06ltfLeM",
        "outputId": "1834f129-9554-474a-a56c-d5533d639e43"
      },
      "execution_count": 26,
      "outputs": [
        {
          "output_type": "stream",
          "name": "stdout",
          "text": [
            "I got a Car\n",
            "It is a SUV\n",
            "It is Color\n"
          ]
        }
      ]
    },
    {
      "cell_type": "code",
      "source": [
        ""
      ],
      "metadata": {
        "id": "w-LvYsjohXMc"
      },
      "execution_count": null,
      "outputs": []
    }
  ]
}